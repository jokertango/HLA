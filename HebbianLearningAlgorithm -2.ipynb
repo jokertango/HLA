{
 "cells": [
  {
   "cell_type": "code",
   "execution_count": 1,
   "metadata": {
    "collapsed": true
   },
   "outputs": [],
   "source": [
    "import numpy as np\n",
    "from __future__ import division\n",
    "import pandas as pd \n",
    "np.set_printoptions(suppress=True)"
   ]
  },
  {
   "cell_type": "code",
   "execution_count": 2,
   "metadata": {
    "collapsed": true
   },
   "outputs": [],
   "source": [
    "class CorticalCell(object):\n",
    "    \"\"\"\n",
    "        constructs scent receptor instance/object\n",
    "    \"\"\"\n",
    "\n",
    "    def __init__(self, label, num_dendrites, size_of_vector):\n",
    "        self.label = label\n",
    "        self.num_dendrites = num_dendrites\n",
    "        self.size_of_vector = size_of_vector\n",
    "    \n",
    "    \n",
    "    \n",
    "    def Dendrite_connections(self):\n",
    "        \n",
    "        return np.random.randint(size_of_vector, size=self.num_dendrites)\n",
    "    \n",
    "   \n",
    "        \n",
    "    def Synapse_perm(self):\n",
    "            \n",
    "        D_connections = self.Dendrite_connections()\n",
    "        D_length = len(D_connections)\n",
    "        \n",
    "        \n",
    "        mu, sigma = 0.5, 0.4 # mean and standard deviation\n",
    "        synapse_strength = np.clip((sigma * np.random.randn(D_length) + mu),0,1)\n",
    "        return np.vstack((D_connections,synapse_strength))\n",
    "        \n",
    "        \n",
    "      \n",
    "        "
   ]
  },
  {
   "cell_type": "code",
   "execution_count": 3,
   "metadata": {
    "collapsed": true
   },
   "outputs": [],
   "source": [
    "cortex = np.empty(1000,dtype=object)\n",
    "num_dendrites = 20\n",
    "size_of_vector = 1000\n",
    "\n",
    "for cortex_cell in range(1000):\n",
    "    cortex[cortex_cell] = CorticalCell(cortex_cell, num_dendrites, size_of_vector)\n",
    "    cortex[cortex_cell].Dendrites_and_Synapses = cortex[cortex_cell].Synapse_perm()"
   ]
  },
  {
   "cell_type": "code",
   "execution_count": 4,
   "metadata": {},
   "outputs": [
    {
     "data": {
      "text/plain": [
       "array([[  27.        ,  985.        ,  665.        ,  784.        ,\n",
       "          23.        ,  528.        ,    1.        ,  138.        ,\n",
       "          58.        ,  774.        ,  863.        ,  374.        ,\n",
       "         607.        ,  917.        ,   96.        ,  540.        ,\n",
       "         174.        ,  263.        ,  122.        ,   43.        ],\n",
       "       [   0.        ,    0.37379436,    0.83640593,    0.54843636,\n",
       "           0.05233316,    0.77896414,    0.77332361,    1.        ,\n",
       "           0.45400562,    1.        ,    0.12587106,    0.57390785,\n",
       "           0.93928304,    1.        ,    0.68861884,    0.8078542 ,\n",
       "           0.        ,    0.46717577,    0.03276595,    0.        ]])"
      ]
     },
     "execution_count": 4,
     "metadata": {},
     "output_type": "execute_result"
    }
   ],
   "source": [
    "cortex[49].Dendrites_and_Synapses"
   ]
  },
  {
   "cell_type": "code",
   "execution_count": 5,
   "metadata": {},
   "outputs": [
    {
     "data": {
      "text/plain": [
       "1000"
      ]
     },
     "execution_count": 5,
     "metadata": {},
     "output_type": "execute_result"
    }
   ],
   "source": [
    "len(cortex)"
   ]
  },
  {
   "cell_type": "code",
   "execution_count": 6,
   "metadata": {
    "collapsed": true
   },
   "outputs": [],
   "source": [
    "sample_input = np.random.randint(2, size=(100, 1000))"
   ]
  },
  {
   "cell_type": "code",
   "execution_count": 7,
   "metadata": {},
   "outputs": [
    {
     "data": {
      "text/plain": [
       "array([[1, 0, 1, ..., 1, 1, 1],\n",
       "       [0, 0, 1, ..., 0, 0, 1],\n",
       "       [1, 1, 0, ..., 0, 1, 0],\n",
       "       ..., \n",
       "       [0, 0, 1, ..., 0, 1, 0],\n",
       "       [1, 0, 1, ..., 1, 1, 0],\n",
       "       [1, 0, 0, ..., 1, 0, 0]])"
      ]
     },
     "execution_count": 7,
     "metadata": {},
     "output_type": "execute_result"
    }
   ],
   "source": [
    "sample_input"
   ]
  },
  {
   "cell_type": "code",
   "execution_count": 8,
   "metadata": {},
   "outputs": [
    {
     "data": {
      "text/plain": [
       "93"
      ]
     },
     "execution_count": 8,
     "metadata": {},
     "output_type": "execute_result"
    }
   ],
   "source": [
    "#Learning(input, cortex, top_conncetion_percent, synaptic_perm_threshold):\n",
    "synaptic_perm_threshold = 0.5\n",
    "cell_dendrite_num = np.zeros(len(cortex))\n",
    "for sample in sample_input:\n",
    "    for i in range(len(cortex)):\n",
    "        dendrite_connections = cortex[i].Dendrites_and_Synapses[0,:].astype(int)\n",
    "        #print sample\n",
    "        #print dendrite_connections\n",
    "        #print sample[dendrite_connections]\n",
    "        connected  = np.flatnonzero(sample[dendrite_connections])\n",
    "        #print connected\n",
    "        strength_of_synapse = cortex[i].Dendrites_and_Synapses[1,connected]\n",
    "        #print strength_of_synapse\n",
    "        connected_synapses = np.flatnonzero(strength_of_synapse > synaptic_perm_threshold)\n",
    "        #print connected_synapses\n",
    "        cell_dendrite_num[i] = len(connected_synapses)\n",
    "        #print cell_dendrite_num[i].astype(int)\n",
    "#print cell_dendrite_num.astype(int)\n",
    "  \n",
    "top = np.flatnonzero(cell_dendrite_num > 7)\n",
    "len(top)\n",
    "        \n",
    "        \n",
    "        #input_indices = np.where(sample[cortex[i].Dendrites_and_Synapses[0,:].astype(int)] > 1) \n",
    "        #print input_indices\n",
    "        \n",
    "        \n",
    "        \n",
    "        \n",
    "        \n",
    "        \n"
   ]
  },
  {
   "cell_type": "code",
   "execution_count": null,
   "metadata": {
    "collapsed": true
   },
   "outputs": [],
   "source": []
  },
  {
   "cell_type": "code",
   "execution_count": null,
   "metadata": {
    "collapsed": true
   },
   "outputs": [],
   "source": []
  }
 ],
 "metadata": {
  "kernelspec": {
   "display_name": "Python 2",
   "language": "python",
   "name": "python2"
  },
  "language_info": {
   "codemirror_mode": {
    "name": "ipython",
    "version": 2
   },
   "file_extension": ".py",
   "mimetype": "text/x-python",
   "name": "python",
   "nbconvert_exporter": "python",
   "pygments_lexer": "ipython2",
   "version": "2.7.13"
  }
 },
 "nbformat": 4,
 "nbformat_minor": 2
}
